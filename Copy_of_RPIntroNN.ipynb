{
  "nbformat": 4,
  "nbformat_minor": 0,
  "metadata": {
    "colab": {
      "name": "Copy of RPIntroNN.ipynb",
      "provenance": [],
      "collapsed_sections": [],
      "include_colab_link": true
    },
    "kernelspec": {
      "name": "python3",
      "display_name": "Python 3"
    },
    "accelerator": "GPU"
  },
  "cells": [
    {
      "cell_type": "markdown",
      "metadata": {
        "id": "view-in-github",
        "colab_type": "text"
      },
      "source": [
        "<a href=\"https://colab.research.google.com/github/Kruszylo/image_processing/blob/master/Copy_of_RPIntroNN.ipynb\" target=\"_parent\"><img src=\"https://colab.research.google.com/assets/colab-badge.svg\" alt=\"Open In Colab\"/></a>"
      ]
    },
    {
      "cell_type": "markdown",
      "metadata": {
        "id": "u6Wf0kdu2Esd",
        "colab_type": "text"
      },
      "source": [
        "## Set up environment"
      ]
    },
    {
      "cell_type": "markdown",
      "metadata": {
        "id": "l4ygu_VY2i65",
        "colab_type": "text"
      },
      "source": [
        "1. Downloading all packages, importing them and preparing our environment\n",
        "2. Remember to choose GPU runtime type"
      ]
    },
    {
      "cell_type": "code",
      "metadata": {
        "id": "DPmFIncv2BQw",
        "colab_type": "code",
        "colab": {}
      },
      "source": [
        "%matplotlib inline\n",
        "!pip install --no-cache-dir -I pillow\n",
        "from os import path\n",
        "!pip install -q torch==1.1.0 torchvision\n",
        "import torch\n",
        "print(torch.__version__)\n",
        "print(torch.cuda.is_available())"
      ],
      "execution_count": 0,
      "outputs": []
    },
    {
      "cell_type": "code",
      "metadata": {
        "id": "Leo7EPcw2nJV",
        "colab_type": "code",
        "colab": {}
      },
      "source": [
        "import numpy as np\n",
        "import torchvision\n",
        "\n",
        "from matplotlib import pyplot as plt;plt.style.use('default')\n",
        "from torchvision.datasets import FashionMNIST"
      ],
      "execution_count": 0,
      "outputs": []
    },
    {
      "cell_type": "code",
      "metadata": {
        "id": "Hb0YvkJFBMKm",
        "colab_type": "code",
        "colab": {}
      },
      "source": [
        "! pip install tensorboardX"
      ],
      "execution_count": 0,
      "outputs": []
    },
    {
      "cell_type": "code",
      "metadata": {
        "id": "5BqmXFj44MDX",
        "colab_type": "code",
        "colab": {}
      },
      "source": [
        "! pip install scikit-image --upgrade"
      ],
      "execution_count": 0,
      "outputs": []
    },
    {
      "cell_type": "markdown",
      "metadata": {
        "id": "ZaS4rElM4Ogw",
        "colab_type": "text"
      },
      "source": [
        "# restart your runtime!"
      ]
    },
    {
      "cell_type": "code",
      "metadata": {
        "id": "hzH25wos2qmf",
        "colab_type": "code",
        "colab": {}
      },
      "source": [
        "! mkdir data\n",
        "! mkdir tensorboard"
      ],
      "execution_count": 0,
      "outputs": []
    },
    {
      "cell_type": "markdown",
      "metadata": {
        "id": "jXAPEo6k290Y",
        "colab_type": "text"
      },
      "source": [
        "Downloading the data, FashinMNiST, check: https://github.com/zalandoresearch/fashion-mnist and **make it automatically transformed to tensor**"
      ]
    },
    {
      "cell_type": "code",
      "metadata": {
        "id": "rx8S5xTqPrNg",
        "colab_type": "code",
        "colab": {}
      },
      "source": [
        "from torchvision.transforms import ToTensor"
      ],
      "execution_count": 0,
      "outputs": []
    },
    {
      "cell_type": "code",
      "metadata": {
        "id": "cjSQLOli29CT",
        "colab_type": "code",
        "colab": {}
      },
      "source": [
        "ds = FashionMNIST('./data', train=True, target_transform=None, download=True, transform=#TODO)\n",
        "ds_test = FashionMNIST('./data', train=False, target_transform=None, download=True, transform=#TODO)"
      ],
      "execution_count": 0,
      "outputs": []
    },
    {
      "cell_type": "markdown",
      "metadata": {
        "id": "ZQ9MSoPC3LAs",
        "colab_type": "text"
      },
      "source": [
        "Checking the data\n",
        "\n",
        "\n",
        "**Write a code tha plots a few images, check the number of channels, shapes, samples in test and train dataset**"
      ]
    },
    {
      "cell_type": "code",
      "metadata": {
        "id": "P5z-Yr_GQLrL",
        "colab_type": "code",
        "colab": {}
      },
      "source": [
        "x, y = ds[1]\n",
        "x.shape, y"
      ],
      "execution_count": 0,
      "outputs": []
    },
    {
      "cell_type": "code",
      "metadata": {
        "id": "-BMuGpd4Xl_o",
        "colab_type": "code",
        "colab": {}
      },
      "source": [
        "len(ds)"
      ],
      "execution_count": 0,
      "outputs": []
    },
    {
      "cell_type": "code",
      "metadata": {
        "id": "Vo3e09253H4v",
        "colab_type": "code",
        "colab": {}
      },
      "source": [
        "plt.figure(figsize=(9, 9))\n",
        "\n",
        "for i in range(9):\n",
        "    #TODO\n",
        "\n",
        "plt.show()"
      ],
      "execution_count": 0,
      "outputs": []
    },
    {
      "cell_type": "markdown",
      "metadata": {
        "id": "EsVelVgW3YKm",
        "colab_type": "text"
      },
      "source": [
        "**Building** a NN\n",
        "\n",
        "**Write a simple neural network consisted of 4 FullyConnected units and with chosen activation function**"
      ]
    },
    {
      "cell_type": "code",
      "metadata": {
        "id": "ILr3-hCP3XcB",
        "colab_type": "code",
        "colab": {}
      },
      "source": [
        "from torch import functional\n",
        "from torch import nn\n",
        "from torch import optim\n"
      ],
      "execution_count": 0,
      "outputs": []
    },
    {
      "cell_type": "code",
      "metadata": {
        "id": "rjMPMdkh3fAa",
        "colab_type": "code",
        "colab": {}
      },
      "source": [
        "class SimpleNeuralNetwork(nn.Module):\n",
        "    \n",
        "    def __init__(self):\n",
        "        super(SimpleNeuralNetwork, self).__init__()\n",
        "        #TODO\n",
        "        \n",
        "    def forward(self, input_data):\n",
        "        #TODO\n",
        "        return x"
      ],
      "execution_count": 0,
      "outputs": []
    },
    {
      "cell_type": "markdown",
      "metadata": {
        "id": "E0gLD9AD3mDD",
        "colab_type": "text"
      },
      "source": [
        "Training a NN\n",
        "\n",
        "**Write a code which in 10 epochs train the network. zero the gradients, calculate loss and make a backward step optimization.**\n",
        "\n",
        "**Remember to define optimizer, criterion and to monitor loss using simple print function provided**"
      ]
    },
    {
      "cell_type": "code",
      "metadata": {
        "id": "gJl8jt203jIT",
        "colab_type": "code",
        "colab": {}
      },
      "source": [
        "from sklearn.metrics import accuracy_score\n",
        "from sklearn.metrics import confusion_matrix\n",
        "from torch.utils.data import DataLoader"
      ],
      "execution_count": 0,
      "outputs": []
    },
    {
      "cell_type": "code",
      "metadata": {
        "id": "Dhvck7Hw3thk",
        "colab_type": "code",
        "colab": {}
      },
      "source": [
        "batch_size = 1024"
      ],
      "execution_count": 0,
      "outputs": []
    },
    {
      "cell_type": "code",
      "metadata": {
        "id": "rQKBDAAZik7c",
        "colab_type": "code",
        "colab": {}
      },
      "source": [
        "train_dl = DataLoader(ds, batch_size, shuffle=True)\n",
        "valid_dl = DataLoader(ds_test, batch_size, shuffle=True)"
      ],
      "execution_count": 0,
      "outputs": []
    },
    {
      "cell_type": "code",
      "metadata": {
        "id": "5jv1FKdFipXc",
        "colab_type": "code",
        "colab": {}
      },
      "source": [
        "model = SimpleNeuralNetwork()\n",
        "model = model.cuda()"
      ],
      "execution_count": 0,
      "outputs": []
    },
    {
      "cell_type": "code",
      "metadata": {
        "id": "Srg0Rhg2is4h",
        "colab_type": "code",
        "colab": {}
      },
      "source": [
        "criterion = nn.CrossEntropyLoss()\n",
        "optimizer = optim.Adam()\n",
        "print(model)\n",
        "number_of_epochs = 10"
      ],
      "execution_count": 0,
      "outputs": []
    },
    {
      "cell_type": "code",
      "metadata": {
        "id": "GxdXRqYgcK-0",
        "colab_type": "code",
        "colab": {}
      },
      "source": [
        "import torch"
      ],
      "execution_count": 0,
      "outputs": []
    },
    {
      "cell_type": "code",
      "metadata": {
        "id": "dMRi6mu_3wKs",
        "colab_type": "code",
        "colab": {}
      },
      "source": [
        "some_index = 0\n",
        "for i in range(number_of_epochs):\n",
        "    train_loss = 0\n",
        "    for iteration, sample in enumerate(train_dl):\n",
        "        #TODO\n",
        "        \n",
        "    val_loss = 0\n",
        "    y_predicted = []\n",
        "    y_true = []\n",
        "\n",
        "    # disable gradinet calculations\n",
        "    with torch.no_grad():\n",
        "        for iteration, sample in enumerate(valid_dl):\n",
        "            imgs, y = sample\n",
        "            #imgs = imgs.cuda()\n",
        "            #y = y.cuda()\n",
        "\n",
        "            #TODO\n",
        "            \n",
        "    val_acc = accuracy_score(y_true, y_predicted)\n",
        "    print('#Epoch: {}, train loss: {}, val loss: {}, val_acc: {}'.format(i, train_loss, val_loss, val_acc))\n",
        "    "
      ],
      "execution_count": 0,
      "outputs": []
    },
    {
      "cell_type": "markdown",
      "metadata": {
        "id": "NhCiWxgUGEDs",
        "colab_type": "text"
      },
      "source": [
        "\n",
        "## Simple CNN model\n",
        "\n",
        "**Define a conv block that contains 2 convolution operations and than MaxPooling (ot any other Pooling), convolution should preserve the image shape!**\n",
        "\n",
        "**Finish the network with 3 Fully Connected layers**\n"
      ]
    },
    {
      "cell_type": "code",
      "metadata": {
        "id": "dMVse9ehGDbx",
        "colab_type": "code",
        "colab": {}
      },
      "source": [
        "class SimpleConvNeuralNetwork(nn.Module):\n",
        "    \n",
        "    def __init__(self):\n",
        "        super(SimpleConvNeuralNetwork, self).__init__()\n",
        "        #TODO\n",
        "        \n",
        "    def forward(self, input_data):\n",
        "        \n",
        "        #TODO\n",
        "        return x\n"
      ],
      "execution_count": 0,
      "outputs": []
    },
    {
      "cell_type": "markdown",
      "metadata": {
        "id": "nenKcy94GMDT",
        "colab_type": "text"
      },
      "source": [
        "**Define params for training and train the model for 10 epochs**"
      ]
    },
    {
      "cell_type": "code",
      "metadata": {
        "id": "D-4L2QwdGHra",
        "colab_type": "code",
        "colab": {}
      },
      "source": [
        "batch_size = 1024\n",
        "train_dl = DataLoader(#TODO)\n",
        "valid_dl = DataLoader(#TODO)\n",
        "model = SimpleConvNeuralNetwork()\n",
        "model = model.cuda()\n",
        "\n",
        "criterion = #TODO\n",
        "optimizer = #TODO\n",
        "print(model)\n",
        "number_of_epochs = 10"
      ],
      "execution_count": 0,
      "outputs": []
    },
    {
      "cell_type": "code",
      "metadata": {
        "id": "7cOzbm6XGQYf",
        "colab_type": "code",
        "colab": {}
      },
      "source": [
        "some_index = 0\n",
        "for i in range(number_of_epochs):\n",
        "    train_loss = 0\n",
        "    for iter, sample in enumerate(train_dl):\n",
        "        #TODO\n",
        "        \n",
        "    val_loss = 0\n",
        "    y_predicted = []\n",
        "    y_true = []\n",
        "\n",
        "    # disable gradinet calculations\n",
        "    with torch.no_grad():\n",
        "        for iteration, sample in enumerate(valid_dl):\n",
        "            #TODO\n",
        "            \n",
        "    val_acc = accuracy_score(y_true, y_predicted)\n",
        "    print('#Epoch: {}, train loss: {}, val loss: {}, val_acc: {}'.format(i, train_loss, val_loss, val_acc))\n",
        "    "
      ],
      "execution_count": 0,
      "outputs": []
    },
    {
      "cell_type": "markdown",
      "metadata": {
        "id": "iCW89MoxpI9Y",
        "colab_type": "text"
      },
      "source": [
        "**Write LeNet-5 classifier and train it https://engmrk.com/lenet-5-a-classic-cnn-architecture/**"
      ]
    },
    {
      "cell_type": "code",
      "metadata": {
        "id": "B_OKSuyMpOSN",
        "colab_type": "code",
        "colab": {}
      },
      "source": [
        "#TODO"
      ],
      "execution_count": 0,
      "outputs": []
    }
  ]
}