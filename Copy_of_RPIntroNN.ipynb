{
  "nbformat": 4,
  "nbformat_minor": 0,
  "metadata": {
    "colab": {
      "name": "Copy of RPIntroNN.ipynb",
      "provenance": [],
      "collapsed_sections": [],
      "include_colab_link": true
    },
    "kernelspec": {
      "name": "python3",
      "display_name": "Python 3"
    },
    "accelerator": "GPU"
  },
  "cells": [
    {
      "cell_type": "markdown",
      "metadata": {
        "id": "view-in-github",
        "colab_type": "text"
      },
      "source": [
        "<a href=\"https://colab.research.google.com/github/Kruszylo/image_processing/blob/master/Copy_of_RPIntroNN.ipynb\" target=\"_parent\"><img src=\"https://colab.research.google.com/assets/colab-badge.svg\" alt=\"Open In Colab\"/></a>"
      ]
    },
    {
      "cell_type": "markdown",
      "metadata": {
        "id": "u6Wf0kdu2Esd",
        "colab_type": "text"
      },
      "source": [
        "## Set up environment"
      ]
    },
    {
      "cell_type": "markdown",
      "metadata": {
        "id": "l4ygu_VY2i65",
        "colab_type": "text"
      },
      "source": [
        "1. Downloading all packages, importing them and preparing our environment\n",
        "2. Remember to choose GPU runtime type"
      ]
    },
    {
      "cell_type": "code",
      "metadata": {
        "id": "DPmFIncv2BQw",
        "colab_type": "code",
        "colab": {
          "base_uri": "https://localhost:8080/",
          "height": 293
        },
        "outputId": "9c752324-a51f-4617-cc8d-b03332c27306"
      },
      "source": [
        "%matplotlib inline\n",
        "!pip install --no-cache-dir -I pillow\n",
        "from os import path\n",
        "!pip install -q torch==1.1.0 torchvision\n",
        "import torch\n",
        "print(torch.__version__)\n",
        "print(torch.cuda.is_available())"
      ],
      "execution_count": 1,
      "outputs": [
        {
          "output_type": "stream",
          "text": [
            "Collecting pillow\n",
            "\u001b[?25l  Downloading https://files.pythonhosted.org/packages/19/66/6113477dc3206ccb1e192cffd626f2840ead02375a6cebe2436ad4c19f61/Pillow-6.2.0-cp36-cp36m-manylinux1_x86_64.whl (2.1MB)\n",
            "\u001b[K     |████████████████████████████████| 2.1MB 3.4MB/s \n",
            "\u001b[31mERROR: albumentations 0.1.12 has requirement imgaug<0.2.7,>=0.2.5, but you'll have imgaug 0.2.9 which is incompatible.\u001b[0m\n",
            "\u001b[?25hInstalling collected packages: pillow\n",
            "Successfully installed pillow-6.2.0\n"
          ],
          "name": "stdout"
        },
        {
          "output_type": "display_data",
          "data": {
            "application/vnd.colab-display-data+json": {
              "pip_warning": {
                "packages": [
                  "PIL"
                ]
              }
            }
          },
          "metadata": {
            "tags": []
          }
        },
        {
          "output_type": "stream",
          "text": [
            "\u001b[K     |████████████████████████████████| 676.9MB 38kB/s \n",
            "\u001b[31mERROR: torchvision 0.4.0 has requirement torch==1.2.0, but you'll have torch 1.1.0 which is incompatible.\u001b[0m\n",
            "\u001b[?25h1.1.0\n",
            "True\n"
          ],
          "name": "stdout"
        }
      ]
    },
    {
      "cell_type": "code",
      "metadata": {
        "id": "Leo7EPcw2nJV",
        "colab_type": "code",
        "colab": {}
      },
      "source": [
        "import numpy as np\n",
        "import torchvision\n",
        "\n",
        "from matplotlib import pyplot as plt;plt.style.use('default')\n",
        "from torchvision.datasets import FashionMNIST"
      ],
      "execution_count": 0,
      "outputs": []
    },
    {
      "cell_type": "code",
      "metadata": {
        "id": "Hb0YvkJFBMKm",
        "colab_type": "code",
        "colab": {
          "base_uri": "https://localhost:8080/",
          "height": 190
        },
        "outputId": "0a94dee4-34ed-4804-905f-78b45924288f"
      },
      "source": [
        "! pip install tensorboardX"
      ],
      "execution_count": 4,
      "outputs": [
        {
          "output_type": "stream",
          "text": [
            "Collecting tensorboardX\n",
            "\u001b[?25l  Downloading https://files.pythonhosted.org/packages/c3/12/dcaf67e1312475b26db9e45e7bb6f32b540671a9ee120b3a72d9e09bc517/tensorboardX-1.8-py2.py3-none-any.whl (216kB)\n",
            "\u001b[K     |████████████████████████████████| 225kB 3.5MB/s \n",
            "\u001b[?25hRequirement already satisfied: six in /usr/local/lib/python3.6/dist-packages (from tensorboardX) (1.12.0)\n",
            "Requirement already satisfied: protobuf>=3.2.0 in /usr/local/lib/python3.6/dist-packages (from tensorboardX) (3.7.1)\n",
            "Requirement already satisfied: numpy in /usr/local/lib/python3.6/dist-packages (from tensorboardX) (1.16.5)\n",
            "Requirement already satisfied: setuptools in /usr/local/lib/python3.6/dist-packages (from protobuf>=3.2.0->tensorboardX) (41.2.0)\n",
            "Installing collected packages: tensorboardX\n",
            "Successfully installed tensorboardX-1.8\n"
          ],
          "name": "stdout"
        }
      ]
    },
    {
      "cell_type": "code",
      "metadata": {
        "id": "5BqmXFj44MDX",
        "colab_type": "code",
        "colab": {
          "base_uri": "https://localhost:8080/",
          "height": 292
        },
        "outputId": "91f790b4-e6ce-4214-e8ff-d57b0a288298"
      },
      "source": [
        "! pip install scikit-image --upgrade"
      ],
      "execution_count": 5,
      "outputs": [
        {
          "output_type": "stream",
          "text": [
            "Requirement already up-to-date: scikit-image in /usr/local/lib/python3.6/dist-packages (0.15.0)\n",
            "Requirement already satisfied, skipping upgrade: networkx>=2.0 in /usr/local/lib/python3.6/dist-packages (from scikit-image) (2.3)\n",
            "Requirement already satisfied, skipping upgrade: PyWavelets>=0.4.0 in /usr/local/lib/python3.6/dist-packages (from scikit-image) (1.0.3)\n",
            "Requirement already satisfied, skipping upgrade: imageio>=2.0.1 in /usr/local/lib/python3.6/dist-packages (from scikit-image) (2.4.1)\n",
            "Requirement already satisfied, skipping upgrade: pillow>=4.3.0 in /usr/local/lib/python3.6/dist-packages (from scikit-image) (6.2.0)\n",
            "Requirement already satisfied, skipping upgrade: matplotlib!=3.0.0,>=2.0.0 in /usr/local/lib/python3.6/dist-packages (from scikit-image) (3.0.3)\n",
            "Requirement already satisfied, skipping upgrade: scipy>=0.17.0 in /usr/local/lib/python3.6/dist-packages (from scikit-image) (1.3.1)\n",
            "Requirement already satisfied, skipping upgrade: decorator>=4.3.0 in /usr/local/lib/python3.6/dist-packages (from networkx>=2.0->scikit-image) (4.4.0)\n",
            "Requirement already satisfied, skipping upgrade: numpy>=1.9.1 in /usr/local/lib/python3.6/dist-packages (from PyWavelets>=0.4.0->scikit-image) (1.16.5)\n",
            "Requirement already satisfied, skipping upgrade: python-dateutil>=2.1 in /usr/local/lib/python3.6/dist-packages (from matplotlib!=3.0.0,>=2.0.0->scikit-image) (2.5.3)\n",
            "Requirement already satisfied, skipping upgrade: cycler>=0.10 in /usr/local/lib/python3.6/dist-packages (from matplotlib!=3.0.0,>=2.0.0->scikit-image) (0.10.0)\n",
            "Requirement already satisfied, skipping upgrade: pyparsing!=2.0.4,!=2.1.2,!=2.1.6,>=2.0.1 in /usr/local/lib/python3.6/dist-packages (from matplotlib!=3.0.0,>=2.0.0->scikit-image) (2.4.2)\n",
            "Requirement already satisfied, skipping upgrade: kiwisolver>=1.0.1 in /usr/local/lib/python3.6/dist-packages (from matplotlib!=3.0.0,>=2.0.0->scikit-image) (1.1.0)\n",
            "Requirement already satisfied, skipping upgrade: six>=1.5 in /usr/local/lib/python3.6/dist-packages (from python-dateutil>=2.1->matplotlib!=3.0.0,>=2.0.0->scikit-image) (1.12.0)\n",
            "Requirement already satisfied, skipping upgrade: setuptools in /usr/local/lib/python3.6/dist-packages (from kiwisolver>=1.0.1->matplotlib!=3.0.0,>=2.0.0->scikit-image) (41.2.0)\n"
          ],
          "name": "stdout"
        }
      ]
    },
    {
      "cell_type": "markdown",
      "metadata": {
        "id": "ZaS4rElM4Ogw",
        "colab_type": "text"
      },
      "source": [
        "# restart your runtime!"
      ]
    },
    {
      "cell_type": "code",
      "metadata": {
        "id": "hzH25wos2qmf",
        "colab_type": "code",
        "colab": {}
      },
      "source": [
        "! mkdir data\n",
        "! mkdir tensorboard"
      ],
      "execution_count": 0,
      "outputs": []
    },
    {
      "cell_type": "markdown",
      "metadata": {
        "id": "jXAPEo6k290Y",
        "colab_type": "text"
      },
      "source": [
        "Downloading the data, FashinMNiST, check: https://github.com/zalandoresearch/fashion-mnist and **make it automatically transformed to tensor**"
      ]
    },
    {
      "cell_type": "code",
      "metadata": {
        "id": "rx8S5xTqPrNg",
        "colab_type": "code",
        "colab": {}
      },
      "source": [
        "from torchvision.transforms import ToTensor"
      ],
      "execution_count": 0,
      "outputs": []
    },
    {
      "cell_type": "code",
      "metadata": {
        "id": "cjSQLOli29CT",
        "colab_type": "code",
        "colab": {
          "base_uri": "https://localhost:8080/",
          "height": 275
        },
        "outputId": "4b3b576c-112e-464c-ed6d-97624fba86af"
      },
      "source": [
        "ds = FashionMNIST('./data', train=True, target_transform=None, download=True, transform=ToTensor())\n",
        "ds_test = FashionMNIST('./data', train=False, target_transform=None, download=True, transform=ToTensor())"
      ],
      "execution_count": 10,
      "outputs": [
        {
          "output_type": "stream",
          "text": [
            "\r0it [00:00, ?it/s]"
          ],
          "name": "stderr"
        },
        {
          "output_type": "stream",
          "text": [
            "Downloading http://fashion-mnist.s3-website.eu-central-1.amazonaws.com/train-images-idx3-ubyte.gz to ./data/FashionMNIST/raw/train-images-idx3-ubyte.gz\n"
          ],
          "name": "stdout"
        },
        {
          "output_type": "stream",
          "text": [
            "26427392it [00:02, 11698370.38it/s]                              \n"
          ],
          "name": "stderr"
        },
        {
          "output_type": "stream",
          "text": [
            "Extracting ./data/FashionMNIST/raw/train-images-idx3-ubyte.gz to ./data/FashionMNIST/raw\n"
          ],
          "name": "stdout"
        },
        {
          "output_type": "stream",
          "text": [
            "\r0it [00:00, ?it/s]"
          ],
          "name": "stderr"
        },
        {
          "output_type": "stream",
          "text": [
            "Downloading http://fashion-mnist.s3-website.eu-central-1.amazonaws.com/train-labels-idx1-ubyte.gz to ./data/FashionMNIST/raw/train-labels-idx1-ubyte.gz\n"
          ],
          "name": "stdout"
        },
        {
          "output_type": "stream",
          "text": [
            "32768it [00:00, 96615.79it/s]                            \n",
            "0it [00:00, ?it/s]"
          ],
          "name": "stderr"
        },
        {
          "output_type": "stream",
          "text": [
            "Extracting ./data/FashionMNIST/raw/train-labels-idx1-ubyte.gz to ./data/FashionMNIST/raw\n",
            "Downloading http://fashion-mnist.s3-website.eu-central-1.amazonaws.com/t10k-images-idx3-ubyte.gz to ./data/FashionMNIST/raw/t10k-images-idx3-ubyte.gz\n"
          ],
          "name": "stdout"
        },
        {
          "output_type": "stream",
          "text": [
            "4423680it [00:01, 4116564.72it/s]                             \n",
            "0it [00:00, ?it/s]"
          ],
          "name": "stderr"
        },
        {
          "output_type": "stream",
          "text": [
            "Extracting ./data/FashionMNIST/raw/t10k-images-idx3-ubyte.gz to ./data/FashionMNIST/raw\n",
            "Downloading http://fashion-mnist.s3-website.eu-central-1.amazonaws.com/t10k-labels-idx1-ubyte.gz to ./data/FashionMNIST/raw/t10k-labels-idx1-ubyte.gz\n"
          ],
          "name": "stdout"
        },
        {
          "output_type": "stream",
          "text": [
            "8192it [00:00, 31087.98it/s]            "
          ],
          "name": "stderr"
        },
        {
          "output_type": "stream",
          "text": [
            "Extracting ./data/FashionMNIST/raw/t10k-labels-idx1-ubyte.gz to ./data/FashionMNIST/raw\n",
            "Processing...\n",
            "Done!\n"
          ],
          "name": "stdout"
        },
        {
          "output_type": "stream",
          "text": [
            "\n"
          ],
          "name": "stderr"
        }
      ]
    },
    {
      "cell_type": "markdown",
      "metadata": {
        "id": "ZQ9MSoPC3LAs",
        "colab_type": "text"
      },
      "source": [
        "Checking the data\n",
        "\n",
        "\n",
        "**Write a code tha plots a few images, check the number of channels, shapes, samples in test and train dataset**"
      ]
    },
    {
      "cell_type": "code",
      "metadata": {
        "id": "P5z-Yr_GQLrL",
        "colab_type": "code",
        "colab": {
          "base_uri": "https://localhost:8080/",
          "height": 34
        },
        "outputId": "9e1ff511-9d27-4bc5-eed5-fb8c9577ce15"
      },
      "source": [
        "x, y = ds[1]\n",
        "x.shape, y"
      ],
      "execution_count": 11,
      "outputs": [
        {
          "output_type": "execute_result",
          "data": {
            "text/plain": [
              "(torch.Size([1, 28, 28]), 0)"
            ]
          },
          "metadata": {
            "tags": []
          },
          "execution_count": 11
        }
      ]
    },
    {
      "cell_type": "code",
      "metadata": {
        "id": "-BMuGpd4Xl_o",
        "colab_type": "code",
        "colab": {
          "base_uri": "https://localhost:8080/",
          "height": 34
        },
        "outputId": "5d206b5f-1b33-46a8-b65b-e9048f676b79"
      },
      "source": [
        "len(ds)"
      ],
      "execution_count": 12,
      "outputs": [
        {
          "output_type": "execute_result",
          "data": {
            "text/plain": [
              "60000"
            ]
          },
          "metadata": {
            "tags": []
          },
          "execution_count": 12
        }
      ]
    },
    {
      "cell_type": "code",
      "metadata": {
        "id": "Vo3e09253H4v",
        "colab_type": "code",
        "colab": {
          "base_uri": "https://localhost:8080/",
          "height": 776
        },
        "outputId": "89d3f91f-5bb5-49eb-dcad-fe0ff12226ac"
      },
      "source": [
        "plt.figure(figsize=(9, 9))\n",
        "\n",
        "for i in range(9):\n",
        "    plt.subplot(331 + i ) #first and second digit - sizes of plot matrix, third - id of cell\n",
        "    img, y = ds[i]\n",
        "    plt.imshow(img[0])\n",
        "    plt.title(y)\n",
        "\n",
        "plt.show()"
      ],
      "execution_count": 16,
      "outputs": [
        {
          "output_type": "display_data",
          "data": {
            "image/png": "[encoded data removed]",
            "text/plain": [
              "<Figure size 900x900 with 9 Axes>"
            ]
          },
          "metadata": {
            "tags": []
          }
        }
      ]
    },
    {
      "cell_type": "markdown",
      "metadata": {
        "id": "EsVelVgW3YKm",
        "colab_type": "text"
      },
      "source": [
        "**Building** a NN\n",
        "\n",
        "**Write a simple neural network consisted of 4 FullyConnected units and with chosen activation function**"
      ]
    },
    {
      "cell_type": "code",
      "metadata": {
        "id": "ILr3-hCP3XcB",
        "colab_type": "code",
        "colab": {}
      },
      "source": [
        "from torch import functional\n",
        "from torch import nn\n",
        "from torch import optim\n"
      ],
      "execution_count": 0,
      "outputs": []
    },
    {
      "cell_type": "code",
      "metadata": {
        "id": "rjMPMdkh3fAa",
        "colab_type": "code",
        "colab": {}
      },
      "source": [
        "class SimpleNeuralNetwork(nn.Module):\n",
        "    \n",
        "    def __init__(self):\n",
        "        super(SimpleNeuralNetwork, self).__init__()\n",
        "        self.layer1 = nn.Linear(in_features = 28*28, out_features = 256)\n",
        "        self.layer2 = nn.Linear(in_features = 256, out_features = 32)\n",
        "        self.layer3 = nn.Linear(in_features = 32, out_features = 10)\n",
        "        \n",
        "    def forward(self, input_data):\n",
        "        x = self.layer1(input_data.view((input_data.size(0), -1))) #we have batch of images, don't change first dim, then flatting image, we want to have vector as input\n",
        "        x = nn.functional.relu(x)\n",
        "        \n",
        "        x = self.layer2(x)\n",
        "        x = nn.functional.relu(x)\n",
        "        \n",
        "        x = self.layer3(x)\n",
        "        x = nn.functional.softmax(x)\n",
        "        \n",
        "        return x"
      ],
      "execution_count": 0,
      "outputs": []
    },
    {
      "cell_type": "markdown",
      "metadata": {
        "id": "E0gLD9AD3mDD",
        "colab_type": "text"
      },
      "source": [
        "Training a NN\n",
        "\n",
        "**Write a code which in 10 epochs train the network. zero the gradients, calculate loss and make a backward step optimization.**\n",
        "\n",
        "**Remember to define optimizer, criterion and to monitor loss using simple print function provided**"
      ]
    },
    {
      "cell_type": "code",
      "metadata": {
        "id": "gJl8jt203jIT",
        "colab_type": "code",
        "colab": {}
      },
      "source": [
        "from sklearn.metrics import accuracy_score\n",
        "from sklearn.metrics import confusion_matrix\n",
        "from torch.utils.data import DataLoader"
      ],
      "execution_count": 0,
      "outputs": []
    },
    {
      "cell_type": "code",
      "metadata": {
        "id": "Dhvck7Hw3thk",
        "colab_type": "code",
        "colab": {}
      },
      "source": [
        "batch_size = 1024"
      ],
      "execution_count": 0,
      "outputs": []
    },
    {
      "cell_type": "code",
      "metadata": {
        "id": "rQKBDAAZik7c",
        "colab_type": "code",
        "colab": {}
      },
      "source": [
        "train_dl = DataLoader(ds, batch_size, shuffle=True)\n",
        "valid_dl = DataLoader(ds_test, batch_size, shuffle=True)"
      ],
      "execution_count": 0,
      "outputs": []
    },
    {
      "cell_type": "code",
      "metadata": {
        "id": "5jv1FKdFipXc",
        "colab_type": "code",
        "colab": {}
      },
      "source": [
        "model = SimpleNeuralNetwork()\n",
        "model = model.cuda()"
      ],
      "execution_count": 0,
      "outputs": []
    },
    {
      "cell_type": "code",
      "metadata": {
        "id": "Srg0Rhg2is4h",
        "colab_type": "code",
        "colab": {
          "base_uri": "https://localhost:8080/",
          "height": 102
        },
        "outputId": "4c6823a6-ad9c-46c3-b3fd-1b5c67c9b64e"
      },
      "source": [
        "criterion = nn.CrossEntropyLoss()\n",
        "optimizer = optim.Adam(params = model.parameters(), lr = 0.1)\n",
        "print(model)\n",
        "number_of_epochs = 10"
      ],
      "execution_count": 24,
      "outputs": [
        {
          "output_type": "stream",
          "text": [
            "SimpleNeuralNetwork(\n",
            "  (layer1): Linear(in_features=784, out_features=256, bias=True)\n",
            "  (layer2): Linear(in_features=256, out_features=32, bias=True)\n",
            "  (layer3): Linear(in_features=32, out_features=10, bias=True)\n",
            ")\n"
          ],
          "name": "stdout"
        }
      ]
    },
    {
      "cell_type": "code",
      "metadata": {
        "id": "GxdXRqYgcK-0",
        "colab_type": "code",
        "colab": {
          "base_uri": "https://localhost:8080/",
          "height": 34
        },
        "outputId": "1780035a-57dc-40eb-babc-ef870fc15b3c"
      },
      "source": [
        "import torch\n",
        "model.parameters()"
      ],
      "execution_count": 26,
      "outputs": [
        {
          "output_type": "execute_result",
          "data": {
            "text/plain": [
              "<generator object Module.parameters at 0x7f0886d96d58>"
            ]
          },
          "metadata": {
            "tags": []
          },
          "execution_count": 26
        }
      ]
    },
    {
      "cell_type": "code",
      "metadata": {
        "id": "dMRi6mu_3wKs",
        "colab_type": "code",
        "colab": {
          "base_uri": "https://localhost:8080/",
          "height": 224
        },
        "outputId": "26a6bfb8-bd33-412b-b453-1c07fb3ed231"
      },
      "source": [
        "some_index = 0\n",
        "for i in range(number_of_epochs):\n",
        "    train_loss = 0\n",
        "    for iteration, sample in enumerate(train_dl):\n",
        "        imgs, y = sample\n",
        "        if torch.cuda.is_available():\n",
        "          imgs = imgs.cuda()\n",
        "          y = y.cuda()\n",
        "          \n",
        "        model.zero_grad()\n",
        "        output_data = model(imgs)\n",
        "        loss = criterion(output_data, y)\n",
        "        loss.backward()\n",
        "        optimizer.step() #update weights \n",
        "        train_loss += loss.item() / imgs.size(0) #devide by bios size\n",
        "        \n",
        "    val_loss = 0\n",
        "    y_predicted = []\n",
        "    y_true = []\n",
        "\n",
        "    # disable gradinet calculations\n",
        "    with torch.no_grad():\n",
        "        for iteration, sample in enumerate(valid_dl):\n",
        "          imgs, y = sample\n",
        "          if torch.cuda.is_available():\n",
        "            imgs = imgs.cuda()\n",
        "            y = y.cuda()\n",
        "          \n",
        "          output_data = model(imgs)\n",
        "          loss = criterion(output_data, y)\n",
        "          train_loss += loss.item() / imgs.size(0) #devide by bios size\n",
        "          y_true.extend(y.cpu().tolist())\n",
        "          _, predicted_ind = torch.max(output_data, dim=1)\n",
        "          y_predicted.extend(predicted_ind.cpu().tolist())\n",
        "\n",
        "            \n",
        "    val_acc = accuracy_score(y_true, y_predicted)\n",
        "    print('#Epoch: {}, train loss: {}, val loss: {}, val_acc: {}'.format(i, train_loss, val_loss, val_acc))\n",
        "    "
      ],
      "execution_count": 32,
      "outputs": [
        {
          "output_type": "stream",
          "text": [
            "/usr/local/lib/python3.6/dist-packages/ipykernel_launcher.py:17: UserWarning: Implicit dimension choice for softmax has been deprecated. Change the call to include dim=X as an argument.\n"
          ],
          "name": "stderr"
        },
        {
          "output_type": "stream",
          "text": [
            "#Epoch: 0, train loss: 0.15738671674632201, val loss: 0, val_acc: 0.1\n",
            "#Epoch: 1, train loss: 0.15738678033634715, val loss: 0, val_acc: 0.1\n",
            "#Epoch: 2, train loss: 0.15738642258943727, val loss: 0, val_acc: 0.1\n",
            "#Epoch: 3, train loss: 0.15738716459418944, val loss: 0, val_acc: 0.1\n",
            "#Epoch: 4, train loss: 0.15738618971902987, val loss: 0, val_acc: 0.1\n",
            "#Epoch: 5, train loss: 0.15738697464839943, val loss: 0, val_acc: 0.1\n",
            "#Epoch: 6, train loss: 0.15738726686511215, val loss: 0, val_acc: 0.1\n",
            "#Epoch: 7, train loss: 0.1573871542653619, val loss: 0, val_acc: 0.1\n",
            "#Epoch: 8, train loss: 0.1573872918980326, val loss: 0, val_acc: 0.1\n",
            "#Epoch: 9, train loss: 0.15738720089551284, val loss: 0, val_acc: 0.1\n"
          ],
          "name": "stdout"
        }
      ]
    },
    {
      "cell_type": "markdown",
      "metadata": {
        "id": "NhCiWxgUGEDs",
        "colab_type": "text"
      },
      "source": [
        "\n",
        "## Simple CNN model\n",
        "\n",
        "**Define a conv block that contains 2 convolution operations and than MaxPooling (ot any other Pooling), convolution should preserve the image shape!**\n",
        "\n",
        "**Finish the network with 3 Fully Connected layers**\n"
      ]
    },
    {
      "cell_type": "code",
      "metadata": {
        "id": "dMVse9ehGDbx",
        "colab_type": "code",
        "colab": {}
      },
      "source": [
        "class SimpleConvNeuralNetwork(nn.Module):\n",
        "    \n",
        "    def __init__(self):\n",
        "        super(SimpleConvNeuralNetwork, self).__init__()\n",
        "        #TODO\n",
        "        \n",
        "    def forward(self, input_data):\n",
        "        \n",
        "        #TODO\n",
        "        return x\n"
      ],
      "execution_count": 0,
      "outputs": []
    },
    {
      "cell_type": "markdown",
      "metadata": {
        "id": "nenKcy94GMDT",
        "colab_type": "text"
      },
      "source": [
        "**Define params for training and train the model for 10 epochs**"
      ]
    },
    {
      "cell_type": "code",
      "metadata": {
        "id": "D-4L2QwdGHra",
        "colab_type": "code",
        "colab": {}
      },
      "source": [
        "batch_size = 1024\n",
        "train_dl = DataLoader(#TODO)\n",
        "valid_dl = DataLoader(#TODO)\n",
        "model = SimpleConvNeuralNetwork()\n",
        "model = model.cuda()\n",
        "\n",
        "criterion = #TODO\n",
        "optimizer = #TODO\n",
        "print(model)\n",
        "number_of_epochs = 10"
      ],
      "execution_count": 0,
      "outputs": []
    },
    {
      "cell_type": "code",
      "metadata": {
        "id": "7cOzbm6XGQYf",
        "colab_type": "code",
        "colab": {}
      },
      "source": [
        "some_index = 0\n",
        "for i in range(number_of_epochs):\n",
        "    train_loss = 0\n",
        "    for iter, sample in enumerate(train_dl):\n",
        "        #TODO\n",
        "        \n",
        "    val_loss = 0\n",
        "    y_predicted = []\n",
        "    y_true = []\n",
        "\n",
        "    # disable gradinet calculations\n",
        "    with torch.no_grad():\n",
        "        for iteration, sample in enumerate(valid_dl):\n",
        "            #TODO\n",
        "            \n",
        "    val_acc = accuracy_score(y_true, y_predicted)\n",
        "    print('#Epoch: {}, train loss: {}, val loss: {}, val_acc: {}'.format(i, train_loss, val_loss, val_acc))\n",
        "    "
      ],
      "execution_count": 0,
      "outputs": []
    },
    {
      "cell_type": "markdown",
      "metadata": {
        "id": "iCW89MoxpI9Y",
        "colab_type": "text"
      },
      "source": [
        "**Write LeNet-5 classifier and train it https://engmrk.com/lenet-5-a-classic-cnn-architecture/**"
      ]
    },
    {
      "cell_type": "code",
      "metadata": {
        "id": "B_OKSuyMpOSN",
        "colab_type": "code",
        "colab": {}
      },
      "source": [
        "#TODO"
      ],
      "execution_count": 0,
      "outputs": []
    }
  ]
}